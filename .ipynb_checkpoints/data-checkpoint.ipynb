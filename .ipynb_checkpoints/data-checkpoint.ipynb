{
 "cells": [
  {
   "cell_type": "code",
   "execution_count": 1,
   "metadata": {},
   "outputs": [],
   "source": [
    "import tensorflow as tf\n",
    "import pathlib\n",
    "import os\n",
    "import numpy as np\n",
    "import cv2"
   ]
  },
  {
   "cell_type": "code",
   "execution_count": 2,
   "metadata": {},
   "outputs": [],
   "source": [
    "data_dir = tf.keras.utils.get_file(origin='http://image-net.org/small/valid_32x32.tar',fname='lr_images',untar=True)\n",
    "data_dir = pathlib.Path(data_dir)"
   ]
  },
  {
   "cell_type": "code",
   "execution_count": 3,
   "metadata": {},
   "outputs": [],
   "source": [
    "DIR = '/home/joy/.keras/datasets/valid_32x32'\n",
    "img_array= []\n",
    "for images in os.listdir(DIR):\n",
    "    imgs = tf.io.read_file(os.path.join(DIR,images))"
   ]
  },
  {
   "cell_type": "code",
   "execution_count": 4,
   "metadata": {},
   "outputs": [],
   "source": [
    "img = tf.image.decode_jpeg(imgs, channels=3)"
   ]
  },
  {
   "cell_type": "code",
   "execution_count": 7,
   "metadata": {},
   "outputs": [],
   "source": [
    "float_tensor_img = tf.image.convert_image_dtype(img, tf.float32)"
   ]
  },
  {
   "cell_type": "code",
   "execution_count": 10,
   "metadata": {},
   "outputs": [
    {
     "data": {
      "text/plain": [
       "<tf.Tensor: shape=(32, 32, 3), dtype=float32, numpy=\n",
       "array([[[0.98823535, 0.9921569 , 0.9921569 ],\n",
       "        [0.9803922 , 0.9803922 , 0.9843138 ],\n",
       "        [0.9803922 , 0.9803922 , 0.9803922 ],\n",
       "        ...,\n",
       "        [0.95294124, 0.9568628 , 0.96470594],\n",
       "        [0.9490197 , 0.95294124, 0.96470594],\n",
       "        [0.9450981 , 0.9490197 , 0.96470594]],\n",
       "\n",
       "       [[0.8862746 , 0.8745099 , 0.86274517],\n",
       "        [0.9921569 , 0.9921569 , 0.9843138 ],\n",
       "        [0.9921569 , 0.9921569 , 0.98823535],\n",
       "        ...,\n",
       "        [0.94117653, 0.9450981 , 0.9607844 ],\n",
       "        [0.93725497, 0.94117653, 0.9607844 ],\n",
       "        [0.9333334 , 0.93725497, 0.9568628 ]],\n",
       "\n",
       "       [[0.4901961 , 0.47058827, 0.43921572],\n",
       "        [0.5529412 , 0.5058824 , 0.4784314 ],\n",
       "        [0.7294118 , 0.7058824 , 0.7058824 ],\n",
       "        ...,\n",
       "        [0.91372555, 0.9215687 , 0.9450981 ],\n",
       "        [0.8980393 , 0.90196085, 0.92549026],\n",
       "        [0.9058824 , 0.91372555, 0.93725497]],\n",
       "\n",
       "       ...,\n",
       "\n",
       "       [[0.427451  , 0.43137258, 0.44705886],\n",
       "        [0.42352945, 0.427451  , 0.4431373 ],\n",
       "        [0.43921572, 0.43921572, 0.45882356],\n",
       "        ...,\n",
       "        [0.3921569 , 0.39607847, 0.4156863 ],\n",
       "        [0.38823533, 0.38431376, 0.4039216 ],\n",
       "        [0.36862746, 0.37647063, 0.39607847]],\n",
       "\n",
       "       [[0.427451  , 0.43137258, 0.4431373 ],\n",
       "        [0.43137258, 0.43529415, 0.45098042],\n",
       "        [0.427451  , 0.427451  , 0.4431373 ],\n",
       "        ...,\n",
       "        [0.3921569 , 0.39607847, 0.4156863 ],\n",
       "        [0.3803922 , 0.3803922 , 0.4039216 ],\n",
       "        [0.3647059 , 0.36862746, 0.38823533]],\n",
       "\n",
       "       [[0.41960788, 0.41960788, 0.43529415],\n",
       "        [0.4156863 , 0.41960788, 0.43137258],\n",
       "        [0.41960788, 0.41960788, 0.43529415],\n",
       "        ...,\n",
       "        [0.37647063, 0.3803922 , 0.40000004],\n",
       "        [0.3647059 , 0.3647059 , 0.38823533],\n",
       "        [0.35686275, 0.36078432, 0.3803922 ]]], dtype=float32)>"
      ]
     },
     "execution_count": 10,
     "metadata": {},
     "output_type": "execute_result"
    }
   ],
   "source": [
    "float_tensor_img"
   ]
  }
 ],
 "metadata": {
  "kernelspec": {
   "display_name": "Python 3",
   "language": "python",
   "name": "python3"
  },
  "language_info": {
   "codemirror_mode": {
    "name": "ipython",
    "version": 3
   },
   "file_extension": ".py",
   "mimetype": "text/x-python",
   "name": "python",
   "nbconvert_exporter": "python",
   "pygments_lexer": "ipython3",
   "version": "3.8.2"
  }
 },
 "nbformat": 4,
 "nbformat_minor": 2
}
