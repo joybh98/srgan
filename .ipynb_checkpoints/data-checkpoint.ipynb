{
 "cells": [
  {
   "cell_type": "code",
   "execution_count": 189,
   "metadata": {},
   "outputs": [],
   "source": [
    "import numpy as np\n",
    "import matplotlib.pyplot as plt\n",
    "import os\n",
    "import cv2"
   ]
  },
  {
   "cell_type": "code",
   "execution_count": 190,
   "metadata": {},
   "outputs": [],
   "source": [
    "DIR = \"data/valid_32x32/\"\n",
    "for img in os.listdir(DIR):\n",
    "        img_array = cv2.imread(os.path.join(path,img))\n",
    "        break\n",
    "        # Uncomment the lines below to check if the images are loaded or not, if they are loaded then plot(s) will be shown of images\n",
    "        #plt.imshow(img_array, cmap=\"gray\")\n",
    "        #plt.show()"
   ]
  },
  {
   "cell_type": "markdown",
   "metadata": {},
   "source": [
    "# Get some information about our feature\n",
    "1. Shape\n",
    "2. Number of pictures\n",
    "3. How is our image data spread"
   ]
  },
  {
   "cell_type": "code",
   "execution_count": 191,
   "metadata": {},
   "outputs": [
    {
     "name": "stdout",
     "output_type": "stream",
     "text": [
      "[[134 160 173]\n",
      " [135 159 172]\n",
      " [134 159 171]\n",
      " [134 162 176]\n",
      " [146 158 174]\n",
      " [133 145 140]\n",
      " [105 113 105]\n",
      " [ 96 103  98]\n",
      " [121 131 122]\n",
      " [156 169 158]\n",
      " [159 171 159]\n",
      " [156 169 158]\n",
      " [156 168 154]\n",
      " [142 167 176]\n",
      " [144 143 133]\n",
      " [ 30  35  39]\n",
      " [ 45  50  51]\n",
      " [ 23  60 116]\n",
      " [ 33  81 142]\n",
      " [ 33  83 145]\n",
      " [ 52  92 134]\n",
      " [ 41  93 147]\n",
      " [ 36  97 150]\n",
      " [ 35  94 148]\n",
      " [ 46  71  84]\n",
      " [ 48  86 123]\n",
      " [ 46  91 131]\n",
      " [ 32  85 132]\n",
      " [ 46  93 129]\n",
      " [ 40  68  75]\n",
      " [ 28  76 122]\n",
      " [ 40  71  89]]\n"
     ]
    }
   ],
   "source": [
    "print(img_array)"
   ]
  },
  {
   "cell_type": "code",
   "execution_count": 192,
   "metadata": {},
   "outputs": [
    {
     "name": "stdout",
     "output_type": "stream",
     "text": [
      "(32, 32, 3)\n"
     ]
    }
   ],
   "source": [
    "print(img_array.shape)"
   ]
  }
 ],
 "metadata": {
  "kernelspec": {
   "display_name": "Python 3",
   "language": "python",
   "name": "python3"
  },
  "language_info": {
   "codemirror_mode": {
    "name": "ipython",
    "version": 3
   },
   "file_extension": ".py",
   "mimetype": "text/x-python",
   "name": "python",
   "nbconvert_exporter": "python",
   "pygments_lexer": "ipython3",
   "version": "3.8.2"
  }
 },
 "nbformat": 4,
 "nbformat_minor": 2
}
