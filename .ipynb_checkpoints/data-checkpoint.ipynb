{
 "cells": [
  {
   "cell_type": "code",
   "execution_count": 127,
   "metadata": {},
   "outputs": [],
   "source": [
    "import numpy as np\n",
    "import matplotlib.pyplot as plt\n",
    "import os\n",
    "import cv2"
   ]
  },
  {
   "cell_type": "code",
   "execution_count": 128,
   "metadata": {},
   "outputs": [],
   "source": [
    "DIR = \"data/valid_32x32/\"\n",
    "for img in os.listdir(DIR):\n",
    "        img_array = cv2.imread(os.path.join(DIR,img))\n",
    "        break\n",
    "        # Uncomment the lines below to check if the images are loaded or not, if they are loaded then plot(s) will be shown of images\n",
    "        #plt.imshow(img_array, cmap=\"gray\")\n",
    "        #plt.show()"
   ]
  },
  {
   "cell_type": "markdown",
   "metadata": {},
   "source": [
    "# Get some information about our feature\n",
    "1. Shape\n",
    "2. Number of pictures\n",
    "3. How is our image data spread"
   ]
  },
  {
   "cell_type": "code",
   "execution_count": 129,
   "metadata": {},
   "outputs": [
    {
     "name": "stdout",
     "output_type": "stream",
     "text": [
      "[[[134 160 173]\n",
      "  [135 159 172]\n",
      "  [134 159 171]\n",
      "  ...\n",
      "  [ 40  68  75]\n",
      "  [ 28  76 122]\n",
      "  [ 40  71  89]]\n",
      "\n",
      " [[105 127 139]\n",
      "  [105 126 136]\n",
      "  [108 129 140]\n",
      "  ...\n",
      "  [ 48  70  77]\n",
      "  [ 39  61  65]\n",
      "  [ 33  53  56]]\n",
      "\n",
      " [[129 158 172]\n",
      "  [131 157 171]\n",
      "  [128 157 172]\n",
      "  ...\n",
      "  [ 51  92 126]\n",
      "  [ 63  90 106]\n",
      "  [ 43  73  93]]\n",
      "\n",
      " ...\n",
      "\n",
      " [[ 79 135 171]\n",
      "  [ 34  92 153]\n",
      "  [ 40 103 161]\n",
      "  ...\n",
      "  [ 78  65  46]\n",
      "  [ 43  36  28]\n",
      "  [ 24  22  20]]\n",
      "\n",
      " [[ 34  79 132]\n",
      "  [ 43  97 153]\n",
      "  [ 48 105 159]\n",
      "  ...\n",
      "  [168 144 105]\n",
      "  [164 139  97]\n",
      "  [159 133  92]]\n",
      "\n",
      " [[ 50  84 110]\n",
      "  [ 26  64 131]\n",
      "  [ 22  61 129]\n",
      "  ...\n",
      "  [151 141 113]\n",
      "  [151 142 117]\n",
      "  [150 144 121]]]\n"
     ]
    }
   ],
   "source": [
    "print(img_array)"
   ]
  },
  {
   "cell_type": "code",
   "execution_count": 130,
   "metadata": {},
   "outputs": [
    {
     "name": "stdout",
     "output_type": "stream",
     "text": [
      "(32, 32, 3)\n"
     ]
    }
   ],
   "source": [
    "print(img_array.shape)"
   ]
  },
  {
   "cell_type": "markdown",
   "metadata": {},
   "source": [
    "# Prepare our dataset for tensorflow GAN Model\n",
    "We have to create our data input pipeline "
   ]
  },
  {
   "cell_type": "code",
   "execution_count": 131,
   "metadata": {},
   "outputs": [],
   "source": [
    "import tensorflow as tf"
   ]
  },
  {
   "cell_type": "code",
   "execution_count": 132,
   "metadata": {},
   "outputs": [
    {
     "data": {
      "text/plain": [
       "<TensorSliceDataset shapes: (32, 32, 3), types: tf.int32>"
      ]
     },
     "execution_count": 132,
     "metadata": {},
     "output_type": "execute_result"
    }
   ],
   "source": [
    "dataset = tf.data.Dataset.from_tensor_slices([img_array])\n",
    "dataset # Output should be shape(32,32,3) types:tf.int32"
   ]
  },
  {
   "cell_type": "code",
   "execution_count": 133,
   "metadata": {},
   "outputs": [
    {
     "data": {
      "text/plain": [
       "'for elem in dataset:\\n    print(elem.numpy())'"
      ]
     },
     "execution_count": 133,
     "metadata": {},
     "output_type": "execute_result"
    }
   ],
   "source": [
    "# Run this code cell to see if the right data is in the dataset\n",
    "'''for elem in dataset:\n",
    "    print(elem.numpy())'''"
   ]
  },
  {
   "cell_type": "markdown",
   "metadata": {},
   "source": [
    "# Batching \n",
    "Our dataset has a large amount of values i.e 49999, using the whole dataset at a time is not be effective, and will take time and performance may hinder.\n",
    "This is why we need to batch our dataset"
   ]
  },
  {
   "cell_type": "code",
   "execution_count": 134,
   "metadata": {},
   "outputs": [],
   "source": [
    "# Batch our dataset\n",
    "BATCH_SIZE = 1000\n",
    "\n",
    "batch_dataset = dataset.batch(BATCH_SIZE)\n",
    "#batch_dataset \n",
    "# Shape will show (None,32,32,3)\n",
    "# Use drop_remainder to ignore the last batch\n",
    "final_dataset = batch_dataset.batch(BATCH_SIZE, drop_remainder=True)\n",
    "#final_dataset\n",
    "# Now the shape should show (1000,32,32,3)"
   ]
  },
  {
   "cell_type": "markdown",
   "metadata": {},
   "source": [
    "# Training Workflows"
   ]
  },
  {
   "cell_type": "code",
   "execution_count": 135,
   "metadata": {},
   "outputs": [
    {
     "name": "stdout",
     "output_type": "stream",
     "text": [
      "(1, 32, 32, 3)\n",
      "End of epoch:  0\n",
      "(1, 32, 32, 3)\n",
      "End of epoch:  1\n",
      "(1, 32, 32, 3)\n",
      "End of epoch:  2\n",
      "(1, 32, 32, 3)\n",
      "End of epoch:  3\n",
      "(1, 32, 32, 3)\n",
      "End of epoch:  4\n",
      "(1, 32, 32, 3)\n",
      "End of epoch:  5\n",
      "(1, 32, 32, 3)\n",
      "End of epoch:  6\n",
      "(1, 32, 32, 3)\n",
      "End of epoch:  7\n",
      "(1, 32, 32, 3)\n",
      "End of epoch:  8\n",
      "(1, 32, 32, 3)\n",
      "End of epoch:  9\n",
      "(1, 32, 32, 3)\n",
      "End of epoch:  10\n",
      "(1, 32, 32, 3)\n",
      "End of epoch:  11\n",
      "(1, 32, 32, 3)\n",
      "End of epoch:  12\n",
      "(1, 32, 32, 3)\n",
      "End of epoch:  13\n",
      "(1, 32, 32, 3)\n",
      "End of epoch:  14\n",
      "(1, 32, 32, 3)\n",
      "End of epoch:  15\n",
      "(1, 32, 32, 3)\n",
      "End of epoch:  16\n",
      "(1, 32, 32, 3)\n",
      "End of epoch:  17\n",
      "(1, 32, 32, 3)\n",
      "End of epoch:  18\n",
      "(1, 32, 32, 3)\n",
      "End of epoch:  19\n",
      "(1, 32, 32, 3)\n",
      "End of epoch:  20\n",
      "(1, 32, 32, 3)\n",
      "End of epoch:  21\n",
      "(1, 32, 32, 3)\n",
      "End of epoch:  22\n",
      "(1, 32, 32, 3)\n",
      "End of epoch:  23\n",
      "(1, 32, 32, 3)\n",
      "End of epoch:  24\n",
      "(1, 32, 32, 3)\n",
      "End of epoch:  25\n",
      "(1, 32, 32, 3)\n",
      "End of epoch:  26\n",
      "(1, 32, 32, 3)\n",
      "End of epoch:  27\n",
      "(1, 32, 32, 3)\n",
      "End of epoch:  28\n",
      "(1, 32, 32, 3)\n",
      "End of epoch:  29\n",
      "(1, 32, 32, 3)\n",
      "End of epoch:  30\n",
      "(1, 32, 32, 3)\n",
      "End of epoch:  31\n",
      "(1, 32, 32, 3)\n",
      "End of epoch:  32\n",
      "(1, 32, 32, 3)\n",
      "End of epoch:  33\n",
      "(1, 32, 32, 3)\n",
      "End of epoch:  34\n",
      "(1, 32, 32, 3)\n",
      "End of epoch:  35\n",
      "(1, 32, 32, 3)\n",
      "End of epoch:  36\n",
      "(1, 32, 32, 3)\n",
      "End of epoch:  37\n",
      "(1, 32, 32, 3)\n",
      "End of epoch:  38\n",
      "(1, 32, 32, 3)\n",
      "End of epoch:  39\n",
      "(1, 32, 32, 3)\n",
      "End of epoch:  40\n",
      "(1, 32, 32, 3)\n",
      "End of epoch:  41\n",
      "(1, 32, 32, 3)\n",
      "End of epoch:  42\n",
      "(1, 32, 32, 3)\n",
      "End of epoch:  43\n",
      "(1, 32, 32, 3)\n",
      "End of epoch:  44\n",
      "(1, 32, 32, 3)\n",
      "End of epoch:  45\n",
      "(1, 32, 32, 3)\n",
      "End of epoch:  46\n",
      "(1, 32, 32, 3)\n",
      "End of epoch:  47\n",
      "(1, 32, 32, 3)\n",
      "End of epoch:  48\n",
      "(1, 32, 32, 3)\n",
      "End of epoch:  49\n"
     ]
    }
   ],
   "source": [
    "epochs = 50\n",
    "dataset = final_dataset\n",
    "\n",
    "for epoch in range(epochs):\n",
    "    for batch in batch_dataset:\n",
    "        print(batch.shape)\n",
    "    print(\"End of epoch: \", epoch)"
   ]
  },
  {
   "cell_type": "markdown",
   "metadata": {},
   "source": [
    "# Preprocessing \n",
    "As our images are of common size (32x32), we don't need to resize them"
   ]
  }
 ],
 "metadata": {
  "kernelspec": {
   "display_name": "Python 3",
   "language": "python",
   "name": "python3"
  },
  "language_info": {
   "codemirror_mode": {
    "name": "ipython",
    "version": 3
   },
   "file_extension": ".py",
   "mimetype": "text/x-python",
   "name": "python",
   "nbconvert_exporter": "python",
   "pygments_lexer": "ipython3",
   "version": "3.8.2"
  }
 },
 "nbformat": 4,
 "nbformat_minor": 2
}
