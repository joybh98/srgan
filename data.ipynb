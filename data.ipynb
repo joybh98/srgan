{
 "cells": [
  {
   "cell_type": "code",
<<<<<<< HEAD
   "execution_count": 8,
=======
   "execution_count": 17,
>>>>>>> master
   "metadata": {},
   "outputs": [],
   "source": [
    "import tensorflow as tf\n",
    "import pathlib\n",
    "import os\n",
<<<<<<< HEAD
    "import numpy as np\n",
    "import cv2"
=======
    "import cv2\n",
    "import tensorflow as tf\n",
    "import tensorlayer as tl\n",
    "from tensorflow import keras\n",
    "from tensorlayer.layers import Elementwise\n",
    "import tarfile as tr"
>>>>>>> master
   ]
  },
  {
   "cell_type": "code",
<<<<<<< HEAD
   "execution_count": 9,
   "metadata": {},
   "outputs": [],
   "source": [
    "data_dir = tf.keras.utils.get_file(origin='http://image-net.org/small/valid_32x32.tar',fname='lr_images',untar=True)\n",
    "data_dir = pathlib.Path(data_dir)"
=======
   "execution_count": 18,
   "metadata": {},
   "outputs": [],
   "source": [
    "DIR = \"small/valid_32x32/\"\n",
    "for img in os.listdir(DIR):\n",
    "        img_array = cv2.imread(os.path.join(DIR,img))\n",
    "        break"
>>>>>>> master
   ]
  },
  {
   "cell_type": "code",
<<<<<<< HEAD
   "execution_count": 10,
   "metadata": {},
   "outputs": [],
   "source": [
    "DIR = '/home/joy/.keras/datasets/valid_32x32'\n",
    "img_array= []\n",
    "for images in os.listdir(DIR):\n",
    "    imgs = tf.io.read_file(os.path.join(DIR,images))"
   ]
  },
  {
   "cell_type": "code",
   "execution_count": 11,
   "metadata": {},
   "outputs": [],
   "source": [
    "img = tf.image.decode_jpeg(imgs, channels=3)"
=======
   "execution_count": 19,
   "metadata": {},
   "outputs": [
    {
     "data": {
      "text/plain": [
       "array([[[255, 252, 254],\n",
       "        [255, 252, 254],\n",
       "        [255, 252, 254],\n",
       "        ...,\n",
       "        [240, 232, 229],\n",
       "        [238, 228, 224],\n",
       "        [235, 224, 220]],\n",
       "\n",
       "       [[255, 252, 254],\n",
       "        [255, 252, 254],\n",
       "        [255, 253, 255],\n",
       "        ...,\n",
       "        [240, 223, 215],\n",
       "        [239, 229, 226],\n",
       "        [234, 223, 219]],\n",
       "\n",
       "       [[255, 254, 255],\n",
       "        [255, 255, 255],\n",
       "        [245, 244, 244],\n",
       "        ...,\n",
       "        [230, 213, 205],\n",
       "        [235, 227, 224],\n",
       "        [233, 223, 219]],\n",
       "\n",
       "       ...,\n",
       "\n",
       "       [[133, 133, 131],\n",
       "        [120, 120, 114],\n",
       "        [148, 146, 142],\n",
       "        ...,\n",
       "        [ 96, 105, 112],\n",
       "        [ 94, 104, 108],\n",
       "        [108, 118, 125]],\n",
       "\n",
       "       [[115, 117, 114],\n",
       "        [142, 146, 146],\n",
       "        [149, 152, 151],\n",
       "        ...,\n",
       "        [ 97, 100, 101],\n",
       "        [ 82,  84,  84],\n",
       "        [ 96, 108, 112]],\n",
       "\n",
       "       [[123, 124, 124],\n",
       "        [139, 148, 148],\n",
       "        [ 98, 106, 102],\n",
       "        ...,\n",
       "        [102, 111, 114],\n",
       "        [112, 116, 118],\n",
       "        [110, 112, 112]]], dtype=uint8)"
      ]
     },
     "execution_count": 19,
     "metadata": {},
     "output_type": "execute_result"
    }
   ],
   "source": [
    "np.asarray(img_array)"
>>>>>>> master
   ]
  },
  {
   "cell_type": "code",
<<<<<<< HEAD
   "execution_count": 12,
   "metadata": {},
   "outputs": [],
   "source": [
    "float_tensor_img = tf.image.convert_image_dtype(img, tf.float32)"
=======
   "execution_count": 20,
   "metadata": {},
   "outputs": [
    {
     "data": {
      "text/plain": [
       "(32, 32, 3)"
      ]
     },
     "execution_count": 20,
     "metadata": {},
     "output_type": "execute_result"
    }
   ],
   "source": [
    "img_array.shape"
   ]
  },
  {
   "cell_type": "code",
   "execution_count": 21,
   "metadata": {},
   "outputs": [],
   "source": [
    "#! /usr/bin/python\n",
    "# -*- coding: utf8 -*-\n",
    "\n",
    "import tensorflow as tf\n",
    "import tensorlayer as tl\n",
    "from tensorflow.keras.layers import BatchNormalization,Conv2D\n",
    "from tensorlayer.layers import (Elementwise)\n",
    "\n",
    "def generator():\n",
    "    inputs = tf.keras.Input(shape=(32,32,3))\n",
    "    n = tf.keras.layers.Conv2D(32,(3,3),strides=(1,1),padding=\"same\",activation='relu')(inputs)\n",
    "    temp = n\n",
    "\n",
    "    # Identity Block\n",
    "    for i in range(15):\n",
    "        nn = tf.keras.layers.Conv2D(32,(3,3),strides=(1,1),padding=\"same\",activation='relu')(n)\n",
    "        nn = tf.keras.layers.BatchNormalization()(n)        \n",
    "        nn = tf.keras.layers.Conv2D(32,(3,3),strides=(1,1),padding=\"same\",activation='relu')(n)\n",
    "        nn = tf.keras.layers.BatchNormalization()(n)\n",
    "        tf.math.add(n,nn)\n",
    "        n = nn \n",
    "        break\n",
    "\n",
    "    n = tf.keras.layers.Conv2D(32,(3,3),strides=(1,1),padding=\"same\")(n)\n",
    "    n = tf.keras.layers.BatchNormalization()(n)\n",
    "    outputs = tf.keras.layers.Conv2D(32,(3,3),padding='same',activation='tanh')(n)\n",
    "    model = tf.keras.Model(inputs=inputs,outputs=outputs)\n",
    "\n",
    "    return model"
>>>>>>> master
   ]
  },
  {
   "cell_type": "code",
<<<<<<< HEAD
   "execution_count": 13,
   "metadata": {},
   "outputs": [],
   "source": [
    "BUFFER_SIZE = float_tensor_img.shape[0]\n",
    "BATCH_SIZE = 1000\n",
    "train_data = tf.data.Dataset.from_tensor_slices(float_tensor_img).shuffle(BUFFER_SIZE).batch(BATCH_SIZE)"
=======
   "execution_count": 22,
   "metadata": {},
   "outputs": [],
   "source": [
    "genmodel = generator()"
   ]
  },
  {
   "cell_type": "code",
   "execution_count": 23,
   "metadata": {},
   "outputs": [],
   "source": [
    "# Specify training config\n",
    "genmodel.compile(optimizer='rmsprop')"
   ]
  },
  {
   "cell_type": "code",
   "execution_count": 25,
   "metadata": {},
   "outputs": [
    {
     "ename": "AttributeError",
     "evalue": "'BatchDataset' object has no attribute 'shape'",
     "output_type": "error",
     "traceback": [
      "\u001b[0;31m---------------------------------------------------------------------------\u001b[0m",
      "\u001b[0;31mAttributeError\u001b[0m                            Traceback (most recent call last)",
      "\u001b[0;32m<ipython-input-25-4cf193528b41>\u001b[0m in \u001b[0;36m<module>\u001b[0;34m\u001b[0m\n\u001b[1;32m      2\u001b[0m \u001b[0mBATCH_SIZE\u001b[0m \u001b[0;34m=\u001b[0m \u001b[0;36m100\u001b[0m\u001b[0;34m\u001b[0m\u001b[0;34m\u001b[0m\u001b[0m\n\u001b[1;32m      3\u001b[0m \u001b[0mtrain_data\u001b[0m \u001b[0;34m=\u001b[0m \u001b[0mtf\u001b[0m\u001b[0;34m.\u001b[0m\u001b[0mdata\u001b[0m\u001b[0;34m.\u001b[0m\u001b[0mDataset\u001b[0m\u001b[0;34m.\u001b[0m\u001b[0mfrom_tensor_slices\u001b[0m\u001b[0;34m(\u001b[0m\u001b[0mimg_array\u001b[0m\u001b[0;34m)\u001b[0m\u001b[0;34m.\u001b[0m\u001b[0mshuffle\u001b[0m\u001b[0;34m(\u001b[0m\u001b[0mBUFFER_SIZE\u001b[0m\u001b[0;34m)\u001b[0m\u001b[0;34m.\u001b[0m\u001b[0mbatch\u001b[0m\u001b[0;34m(\u001b[0m\u001b[0mBATCH_SIZE\u001b[0m\u001b[0;34m)\u001b[0m\u001b[0;34m\u001b[0m\u001b[0;34m\u001b[0m\u001b[0m\n\u001b[0;32m----> 4\u001b[0;31m \u001b[0mtrain_data\u001b[0m\u001b[0;34m.\u001b[0m\u001b[0mshape\u001b[0m\u001b[0;34m\u001b[0m\u001b[0;34m\u001b[0m\u001b[0m\n\u001b[0m\u001b[1;32m      5\u001b[0m \u001b[0mprint\u001b[0m\u001b[0;34m(\u001b[0m\u001b[0;34m'# Fit model on training data'\u001b[0m\u001b[0;34m)\u001b[0m\u001b[0;34m\u001b[0m\u001b[0;34m\u001b[0m\u001b[0m\n\u001b[1;32m      6\u001b[0m history = genmodel.fit(train_data,\n",
      "\u001b[0;31mAttributeError\u001b[0m: 'BatchDataset' object has no attribute 'shape'"
     ]
    }
   ],
   "source": [
    "BUFFER_SIZE = img_array.shape[0]\n",
    "BATCH_SIZE = 100\n",
    "train_data = tf.data.Dataset.from_tensor_slices(img_array).shuffle(BUFFER_SIZE).batch(BATCH_SIZE)\n",
    "print('# Fit model on training data')\n",
    "history = genmodel.fit(train_data,\n",
    "                    batch_size=1000,\n",
    "                    epochs=50)\n",
    "                    # We pass some validation for\n",
    "                    # monitoring validation loss and metrics\n",
    "                    # at the end of each epoch)"
>>>>>>> master
   ]
  }
 ],
 "metadata": {
  "kernelspec": {
   "display_name": "Python 3",
   "language": "python",
   "name": "python3"
  },
  "language_info": {
   "codemirror_mode": {
    "name": "ipython",
    "version": 3
   },
   "file_extension": ".py",
   "mimetype": "text/x-python",
   "name": "python",
   "nbconvert_exporter": "python",
   "pygments_lexer": "ipython3",
   "version": "3.8.2"
  }
 },
 "nbformat": 4,
 "nbformat_minor": 2
}
